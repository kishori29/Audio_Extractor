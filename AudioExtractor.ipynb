{
 "cells": [
  {
   "cell_type": "code",
   "execution_count": 2,
   "metadata": {},
   "outputs": [
    {
     "name": "stderr",
     "output_type": "stream",
     "text": [
      "chunk:   1%|▊                                                              | 27/2259 [00:31<02:13, 16.76it/s, now=None]\n",
      "chunk:   0%|                                                                        | 0/2259 [00:00<?, ?it/s, now=None]\u001b[A"
     ]
    },
    {
     "name": "stdout",
     "output_type": "stream",
     "text": [
      "MoviePy - Writing audio in Audio.mp3\n"
     ]
    },
    {
     "name": "stderr",
     "output_type": "stream",
     "text": [
      "\n",
      "chunk:   0%|                                                                | 3/2259 [00:00<02:17, 16.40it/s, now=None]\u001b[A\n",
      "chunk:   8%|████▋                                                         | 171/2259 [00:00<01:29, 23.33it/s, now=None]\u001b[A\n",
      "chunk:  14%|████████▊                                                     | 323/2259 [00:00<00:58, 33.11it/s, now=None]\u001b[A\n",
      "chunk:  21%|█████████████                                                 | 478/2259 [00:00<00:37, 46.87it/s, now=None]\u001b[A\n",
      "chunk:  28%|█████████████████▎                                            | 633/2259 [00:00<00:24, 66.09it/s, now=None]\u001b[A\n",
      "chunk:  35%|█████████████████████▉                                        | 798/2259 [00:00<00:15, 92.82it/s, now=None]\u001b[A\n",
      "chunk:  43%|██████████████████████████                                   | 964/2259 [00:00<00:10, 129.47it/s, now=None]\u001b[A\n",
      "chunk:  50%|█████████████████████████████▊                              | 1122/2259 [00:00<00:06, 178.57it/s, now=None]\u001b[A\n",
      "chunk:  57%|██████████████████████████████████▎                         | 1291/2259 [00:00<00:03, 243.98it/s, now=None]\u001b[A\n",
      "chunk:  64%|██████████████████████████████████████▌                     | 1452/2259 [00:01<00:02, 327.14it/s, now=None]\u001b[A\n",
      "chunk:  72%|██████████████████████████████████████████▉                 | 1617/2259 [00:01<00:01, 430.43it/s, now=None]\u001b[A\n",
      "chunk:  79%|███████████████████████████████████████████████▍            | 1784/2259 [00:01<00:00, 553.32it/s, now=None]\u001b[A\n",
      "chunk:  86%|███████████████████████████████████████████████████▋        | 1945/2259 [00:01<00:00, 684.82it/s, now=None]\u001b[A\n",
      "chunk:  94%|████████████████████████████████████████████████████████▏   | 2114/2259 [00:01<00:00, 832.66it/s, now=None]\u001b[A\n",
      "chunk:   1%|▊                                                              | 27/2259 [00:33<02:13, 16.76it/s, now=None]\u001b[A"
     ]
    },
    {
     "name": "stdout",
     "output_type": "stream",
     "text": [
      "MoviePy - Done.\n"
     ]
    }
   ],
   "source": [
    "# extracting audio from video\n",
    "#using moviepy library\n",
    "import moviepy.editor\n",
    "\n",
    "video=moviepy.editor.VideoFileClip(\"Video.mp4\")\n",
    "audio=video.audio\n",
    "audio.write_audiofile('Audio.mp3')"
   ]
  },
  {
   "cell_type": "code",
   "execution_count": 3,
   "metadata": {},
   "outputs": [],
   "source": [
    "# Using Playsound to listen to the converted audio in jupyter notebook\n",
    "from playsound import playsound\n",
    "playsound('Audio.mp3')"
   ]
  },
  {
   "cell_type": "code",
   "execution_count": null,
   "metadata": {},
   "outputs": [],
   "source": []
  }
 ],
 "metadata": {
  "kernelspec": {
   "display_name": "Python 3",
   "language": "python",
   "name": "python3"
  },
  "language_info": {
   "codemirror_mode": {
    "name": "ipython",
    "version": 3
   },
   "file_extension": ".py",
   "mimetype": "text/x-python",
   "name": "python",
   "nbconvert_exporter": "python",
   "pygments_lexer": "ipython3",
   "version": "3.8.3"
  }
 },
 "nbformat": 4,
 "nbformat_minor": 4
}
